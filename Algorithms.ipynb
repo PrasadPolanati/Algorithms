{
 "cells": [
  {
   "cell_type": "code",
   "execution_count": null,
   "id": "9b49588f",
   "metadata": {},
   "outputs": [],
   "source": [
    "##Huffman coding for data compression\n",
    "###Sending data over network compress it "
   ]
  },
  {
   "cell_type": "code",
   "execution_count": 1,
   "id": "62573efc",
   "metadata": {},
   "outputs": [],
   "source": [
    "class NodeTree(object):\n",
    "    \n",
    "    def __init__(self,left=None,right=None):\n",
    "        self.left = left\n",
    "        self.right= right\n",
    "        \n",
    "    def children(self):\n",
    "        return (self.left,self.right)\n",
    "   \n",
    "    def nodes(self):\n",
    "         return (self.left,self.right)\n",
    "        \n",
    "    def __str__(self):\n",
    "        return '%s_%s' % (self.left, self.right)"
   ]
  },
  {
   "cell_type": "code",
   "execution_count": 2,
   "id": "0246daf4",
   "metadata": {},
   "outputs": [],
   "source": [
    "##Huffman data compression\n",
    "string = \"BCAADDDCCACACAC\"\n",
    "def freq_dict(string):\n",
    "    freqdict = {}\n",
    "    for char in string:\n",
    "        if char in freqdict:\n",
    "            freqdict[char] +=1\n",
    "            \n",
    "        else:\n",
    "            freqdict[char] =1\n",
    "        \n",
    "    return freqdict\n",
    "freqdict = freq_dict(string)"
   ]
  },
  {
   "cell_type": "code",
   "execution_count": 3,
   "id": "d5b44efb",
   "metadata": {},
   "outputs": [],
   "source": [
    "#sort the keys in descending order\n",
    "freq = sorted(freqdict.items(),key=lambda x: x[1],reverse=True)"
   ]
  },
  {
   "cell_type": "code",
   "execution_count": 4,
   "id": "8fd802c3",
   "metadata": {},
   "outputs": [],
   "source": [
    "nodes = freq\n",
    "while len(nodes)>1:\n",
    "    (key1,c1) = nodes[-1]\n",
    "    (key2,c2)= nodes[-2]\n",
    "    nodes = nodes[:-2]\n",
    "    node =NodeTree(key1,key2)\n",
    "    nodes.append((node,c1+c2))\n",
    "    nodes = sorted(nodes, key=lambda x: x[1], reverse=True)"
   ]
  },
  {
   "cell_type": "code",
   "execution_count": 15,
   "id": "b7f2f874",
   "metadata": {},
   "outputs": [
    {
     "data": {
      "text/plain": [
       "<__main__.NodeTree at 0x2a571b5b450>"
      ]
     },
     "execution_count": 15,
     "metadata": {},
     "output_type": "execute_result"
    }
   ],
   "source": [
    "nodes[0][0]"
   ]
  },
  {
   "cell_type": "code",
   "execution_count": 31,
   "id": "903b8f0c",
   "metadata": {},
   "outputs": [],
   "source": [
    "# Main function implementing huffman coding\n",
    "def huffman_code_tree(node, left=True, binString=''):\n",
    "    if type(node) is str:\n",
    "        return {node: binString}\n",
    "    (l, r) = node.children()\n",
    "    d = dict()\n",
    "    d.update(huffman_code_tree(l, True, binString + '0'))\n",
    "    d.update(huffman_code_tree(r, False, binString + '1'))\n",
    "    return d"
   ]
  },
  {
   "cell_type": "code",
   "execution_count": 32,
   "id": "eea87b0a",
   "metadata": {},
   "outputs": [
    {
     "name": "stdout",
     "output_type": "stream",
     "text": [
      " Char | Huffman code \n",
      "----------------------\n",
      " 'C'  |           0\n",
      " 'A'  |          11\n",
      " 'D'  |         101\n",
      " 'B'  |         100\n"
     ]
    }
   ],
   "source": [
    "huffmanCode = huffman_code_tree(nodes[0][0])\n",
    "\n",
    "print(' Char | Huffman code ')\n",
    "print('----------------------')\n",
    "for (char, frequency) in freq:\n",
    "    print(' %-4r |%12s' % (char, huffmanCode[char]))"
   ]
  }
 ],
 "metadata": {
  "kernelspec": {
   "display_name": "Python 3 (ipykernel)",
   "language": "python",
   "name": "python3"
  },
  "language_info": {
   "codemirror_mode": {
    "name": "ipython",
    "version": 3
   },
   "file_extension": ".py",
   "mimetype": "text/x-python",
   "name": "python",
   "nbconvert_exporter": "python",
   "pygments_lexer": "ipython3",
   "version": "3.11.4"
  }
 },
 "nbformat": 4,
 "nbformat_minor": 5
}
